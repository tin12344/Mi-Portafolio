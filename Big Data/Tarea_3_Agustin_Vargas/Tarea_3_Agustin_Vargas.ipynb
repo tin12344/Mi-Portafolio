{
 "cells": [
  {
   "cell_type": "markdown",
   "id": "0b397a76",
   "metadata": {},
   "source": [
    "# Tarea 3 Agustin Vargas Quesada"
   ]
  },
  {
   "cell_type": "markdown",
   "id": "b86abbe9",
   "metadata": {},
   "source": [
    "Para la Tarea #3 se realizara un analisis predictivo haciendo uso del conjunto de datos de \"VideoGamesSales.csv\" el cual consiste en datos de las ventas de video juegos en diferentes años junto con las ventas que estos tuvieron.\n",
    "\n",
    "Se va a predecir si un video juego genero perdidas o ganancias para la compañia de acuerdo a sus ventas. Para esto se utilizaran las columnas de prediction y resultado."
   ]
  },
  {
   "cell_type": "markdown",
   "id": "9b310c81",
   "metadata": {},
   "source": [
    "Para realizar el analisis se utilizara pyspark, lo primero que se debera de hacer es realizar las importaciones que se utilizaran, las cuales seran las siguientes:"
   ]
  },
  {
   "cell_type": "code",
   "execution_count": 1,
   "id": "e51ca72c",
   "metadata": {},
   "outputs": [],
   "source": [
    "%matplotlib inline\n",
    "from pyspark.sql import SparkSession\n",
    "from pyspark.sql.types import StructType, StructField, StringType, DoubleType, IntegerType\n",
    "from pyspark.sql.functions import col, desc, min, max, rand, when, avg, count\n",
    "import matplotlib.pyplot as plt\n",
    "from pyspark.ml.stat import Correlation\n",
    "from pyspark.ml.feature import VectorAssembler\n",
    "from pyspark.ml.stat import Correlation\n",
    "from pyspark.ml.classification import DecisionTreeClassifier\n",
    "from pyspark.ml.evaluation import MulticlassClassificationEvaluator\n",
    "from pyspark.ml.tuning import CrossValidator, ParamGridBuilder\n",
    "from pyspark.ml.classification import RandomForestClassifier"
   ]
  },
  {
   "cell_type": "markdown",
   "id": "fdb98e90",
   "metadata": {},
   "source": [
    "Una vez que se realizaron las importaciones que se requieren se debera de crear la sesion de la siguiente manera:"
   ]
  },
  {
   "cell_type": "code",
   "execution_count": 2,
   "id": "e15ab4d3",
   "metadata": {},
   "outputs": [
    {
     "name": "stderr",
     "output_type": "stream",
     "text": [
      "ps: unrecognized option: p\n",
      "BusyBox v1.30.1 (2019-10-26 11:23:07 UTC) multi-call binary.\n",
      "\n",
      "Usage: ps [-o COL1,COL2=HEADER]\n",
      "\n",
      "Show list of processes\n",
      "\n",
      "\t-o COL1,COL2=HEADER\tSelect columns for display\n",
      "Setting default log level to \"WARN\".\n",
      "To adjust logging level use sc.setLogLevel(newLevel). For SparkR, use setLogLevel(newLevel).\n",
      "25/04/25 16:11:31 WARN NativeCodeLoader: Unable to load native-hadoop library for your platform... using builtin-java classes where applicable\n",
      "/usr/lib/python3.7/site-packages/pyspark/context.py:317: FutureWarning: Python 3.7 support is deprecated in Spark 3.4.\n",
      "  warnings.warn(\"Python 3.7 support is deprecated in Spark 3.4.\", FutureWarning)\n"
     ]
    }
   ],
   "source": [
    "spark = SparkSession \\\n",
    "    .builder \\\n",
    "    .appName(\"Video Games\") \\\n",
    "    .config(\"spark.driver.extraClassPath\", \"postgresql-42.2.14.jar\") \\\n",
    "    .config(\"spark.executor.extraClassPath\", \"postgresql-42.2.14.jar\") \\\n",
    "    .getOrCreate()\n"
   ]
  },
  {
   "cell_type": "markdown",
   "id": "5a1e7a74",
   "metadata": {},
   "source": [
    "Una vez que se creo la sesion se debera de realizar la lectura del data set sobre el cual se va a trabajar :"
   ]
  },
  {
   "cell_type": "code",
   "execution_count": 3,
   "id": "f1b4796b",
   "metadata": {},
   "outputs": [
    {
     "name": "stdout",
     "output_type": "stream",
     "text": [
      "+----+--------------------+--------+----+------------+--------------------+--------+--------+--------+-----------+------------+\n",
      "|Rank|                Name|Platform|Year|       Genre|           Publisher|NA_Sales|EU_Sales|JP_Sales|Other_Sales|Global_Sales|\n",
      "+----+--------------------+--------+----+------------+--------------------+--------+--------+--------+-----------+------------+\n",
      "|   1|          Wii Sports|     Wii|2006|      Sports|            Nintendo|   41.49|   29.02|    3.77|       8.46|       82.74|\n",
      "|   2|   Super Mario Bros.|     NES|1985|    Platform|            Nintendo|   29.08|    3.58|    6.81|       0.77|       40.24|\n",
      "|   3|      Mario Kart Wii|     Wii|2008|      Racing|            Nintendo|   15.85|   12.88|    3.79|       3.31|       35.82|\n",
      "|   4|   Wii Sports Resort|     Wii|2009|      Sports|            Nintendo|   15.75|   11.01|    3.28|       2.96|        33.0|\n",
      "|   5|Pokemon Red/Pokem...|      GB|1996|Role-Playing|            Nintendo|   11.27|    8.89|   10.22|        1.0|       31.37|\n",
      "|   6|              Tetris|      GB|1989|      Puzzle|            Nintendo|    23.2|    2.26|    4.22|       0.58|       30.26|\n",
      "|   7|New Super Mario B...|      DS|2006|    Platform|            Nintendo|   11.38|    9.23|     6.5|        2.9|       30.01|\n",
      "|   8|            Wii Play|     Wii|2006|        Misc|            Nintendo|   14.03|     9.2|    2.93|       2.85|       29.02|\n",
      "|   9|New Super Mario B...|     Wii|2009|    Platform|            Nintendo|   14.59|    7.06|     4.7|       2.26|       28.62|\n",
      "|  10|           Duck Hunt|     NES|1984|     Shooter|            Nintendo|   26.93|    0.63|    0.28|       0.47|       28.31|\n",
      "|  11|          Nintendogs|      DS|2005|  Simulation|            Nintendo|    9.07|    11.0|    1.93|       2.75|       24.76|\n",
      "|  12|       Mario Kart DS|      DS|2005|      Racing|            Nintendo|    9.81|    7.57|    4.13|       1.92|       23.42|\n",
      "|  13|Pokemon Gold/Poke...|      GB|1999|Role-Playing|            Nintendo|     9.0|    6.18|     7.2|       0.71|        23.1|\n",
      "|  14|             Wii Fit|     Wii|2007|      Sports|            Nintendo|    8.94|    8.03|     3.6|       2.15|       22.72|\n",
      "|  15|        Wii Fit Plus|     Wii|2009|      Sports|            Nintendo|    9.09|    8.59|    2.53|       1.79|        22.0|\n",
      "|  16|  Kinect Adventures!|    X360|2010|        Misc|Microsoft Game St...|   14.97|    4.94|    0.24|       1.67|       21.82|\n",
      "|  17|  Grand Theft Auto V|     PS3|2013|      Action|Take-Two Interactive|    7.01|    9.27|    0.97|       4.14|        21.4|\n",
      "|  18|Grand Theft Auto:...|     PS2|2004|      Action|Take-Two Interactive|    9.43|     0.4|    0.41|      10.57|       20.81|\n",
      "|  19|   Super Mario World|    SNES|1990|    Platform|            Nintendo|   12.78|    3.75|    3.54|       0.55|       20.61|\n",
      "|  20|Brain Age: Train ...|      DS|2005|        Misc|            Nintendo|    4.75|    9.26|    4.16|       2.05|       20.22|\n",
      "+----+--------------------+--------+----+------------+--------------------+--------+--------+--------+-----------+------------+\n",
      "only showing top 20 rows\n",
      "\n",
      "root\n",
      " |-- Rank: integer (nullable = true)\n",
      " |-- Name: string (nullable = true)\n",
      " |-- Platform: string (nullable = true)\n",
      " |-- Year: integer (nullable = true)\n",
      " |-- Genre: string (nullable = true)\n",
      " |-- Publisher: string (nullable = true)\n",
      " |-- NA_Sales: double (nullable = true)\n",
      " |-- EU_Sales: double (nullable = true)\n",
      " |-- JP_Sales: double (nullable = true)\n",
      " |-- Other_Sales: double (nullable = true)\n",
      " |-- Global_Sales: double (nullable = true)\n",
      "\n"
     ]
    }
   ],
   "source": [
    "schema = StructType([\n",
    "    StructField(\"Rank\", IntegerType(), True),\n",
    "    StructField(\"Name\", StringType(), True),\n",
    "    StructField(\"Platform\", StringType(), True),\n",
    "    StructField(\"Year\", IntegerType(), True),\n",
    "    StructField(\"Genre\", StringType(), True),\n",
    "    StructField(\"Publisher\", StringType(), True),\n",
    "    StructField(\"NA_Sales\", DoubleType(), True),\n",
    "    StructField(\"EU_Sales\", DoubleType(), True),\n",
    "    StructField(\"JP_Sales\", DoubleType(), True),\n",
    "    StructField(\"Other_Sales\", DoubleType(), True),\n",
    "    StructField(\"Global_Sales\", DoubleType(), True)\n",
    "])\n",
    "\n",
    "df = spark.read \\\n",
    "    .option(\"header\", \"true\") \\\n",
    "    .schema(schema) \\\n",
    "    .csv(\"VideoGamesSales.csv\")\n",
    "\n",
    "df.show()\n",
    "df.printSchema()"
   ]
  },
  {
   "cell_type": "markdown",
   "id": "5c9ead19",
   "metadata": {},
   "source": [
    "En las primeras 20 columnas da la impresion de que los datos no cuentan con valores anomalos, antes de empezar con el analisis es importatne realizar una exploracion de los datos, lo primero sera verificar si hay valores nulos, outliers o valores en cero, para esto lo realizaremos de la siguiente manera:"
   ]
  },
  {
   "cell_type": "code",
   "execution_count": 4,
   "id": "614fccc1",
   "metadata": {},
   "outputs": [
    {
     "name": "stdout",
     "output_type": "stream",
     "text": [
      "\n",
      "Columna: Rank\n",
      "Valores NULL: 0\n",
      "Valores cero: 0\n",
      "\n",
      "Columna: Name\n",
      "Valores NULL: 0\n",
      "Valores cero: 0\n",
      "\n",
      "Columna: Platform\n",
      "Valores NULL: 0\n",
      "Valores cero: 0\n",
      "\n",
      "Columna: Year\n",
      "Valores NULL: 271\n",
      "Valores cero: 0\n",
      "\n",
      "Columna: Genre\n",
      "Valores NULL: 0\n",
      "Valores cero: 0\n",
      "\n",
      "Columna: Publisher\n",
      "Valores NULL: 0\n",
      "Valores cero: 0\n",
      "\n",
      "Columna: NA_Sales\n",
      "Valores NULL: 0\n",
      "Valores cero: 4499\n",
      "\n",
      "Columna: EU_Sales\n",
      "Valores NULL: 0\n",
      "Valores cero: 5730\n",
      "\n",
      "Columna: JP_Sales\n",
      "Valores NULL: 0\n",
      "Valores cero: 10455\n",
      "\n",
      "Columna: Other_Sales\n",
      "Valores NULL: 0\n",
      "Valores cero: 6477\n",
      "\n",
      "Columna: Global_Sales\n",
      "Valores NULL: 0\n",
      "Valores cero: 0\n"
     ]
    }
   ],
   "source": [
    "for column in df.columns:\n",
    "    null_count = df.filter(col(column).isNull()).count()\n",
    "    zero_count = df.filter(col(column) == 0).count()\n",
    "        \n",
    "    print(f\"\\nColumna: {column}\")\n",
    "    print(f\"Valores NULL: {null_count}\")\n",
    "    print(f\"Valores cero: {zero_count}\")"
   ]
  },
  {
   "cell_type": "markdown",
   "id": "78c98dcd",
   "metadata": {},
   "source": [
    "Primero se verificaran si hay valores nulos o valores numericos que sean 0, de acuerdo a la salida anterior se puede observar que las columnas NA_Sales que corresponde a las ventas de America del Norte, EU_Sales las ventas de Europa, JP_Sales ventas en japon y Other_Sales otras ventas, contienen valores numericos que son 0. Pero se observa que en el año se encuentran algunos registros nulos."
   ]
  },
  {
   "cell_type": "code",
   "execution_count": 5,
   "id": "1d20f98c",
   "metadata": {},
   "outputs": [
    {
     "name": "stderr",
     "output_type": "stream",
     "text": [
      "                                                                                \r"
     ]
    },
    {
     "name": "stdout",
     "output_type": "stream",
     "text": [
      "\n",
      "Estadísticas para NA_Sales:\n",
      "Límite inferior: -0.30\n",
      "Límite superior: 0.50\n",
      "Número de outliers: 2040\n",
      "\n",
      "Estadísticas para EU_Sales:\n",
      "Límite inferior: -0.14\n",
      "Límite superior: 0.23\n",
      "Número de outliers: 2448\n",
      "\n",
      "Estadísticas para JP_Sales:\n",
      "Límite inferior: -0.03\n",
      "Límite superior: 0.05\n",
      "Número de outliers: 3465\n",
      "\n",
      "Estadísticas para Other_Sales:\n",
      "Límite inferior: -0.04\n",
      "Límite superior: 0.07\n",
      "Número de outliers: 2264\n",
      "\n",
      "Estadísticas para Global_Sales:\n",
      "Límite inferior: -0.46\n",
      "Límite superior: 0.93\n",
      "Número de outliers: 2218\n"
     ]
    },
    {
     "data": {
      "image/png": "[encoded data removed]",
      "text/plain": [
       "<Figure size 1200x600 with 1 Axes>"
      ]
     },
     "metadata": {},
     "output_type": "display_data"
    }
   ],
   "source": [
    "def plot_boxplot(df, columnas_numericas):\n",
    "    fig, ax = plt.subplots(figsize=(12, 6))\n",
    "    all_data = []\n",
    "    \n",
    "    for columna in columnas_numericas:\n",
    "        quantiles = df.approxQuantile(columna, [0.25, 0.75], 0.05)\n",
    "        Q1 = quantiles[0]\n",
    "        Q3 = quantiles[1]\n",
    "        IQR = Q3 - Q1\n",
    "        \n",
    "        lower_bound = Q1 - 1.5 * IQR\n",
    "        upper_bound = Q3 + 1.5 * IQR\n",
    "        \n",
    "        filtered_data = df.filter(\n",
    "            (col(columna) >= lower_bound) & \n",
    "            (col(columna) <= upper_bound)\n",
    "        ).select(columna).rdd.flatMap(lambda x: x).collect()\n",
    "        \n",
    "        outliers = df.filter(\n",
    "            (col(columna) < lower_bound) | \n",
    "            (col(columna) > upper_bound)\n",
    "        ).select(columna).rdd.flatMap(lambda x: x).collect()\n",
    "        \n",
    "        all_data.append({\n",
    "            'data': filtered_data if filtered_data else [],\n",
    "            'outliers': outliers,\n",
    "            'lower_bound': lower_bound,\n",
    "            'upper_bound': upper_bound\n",
    "        })\n",
    "        \n",
    "        print(f\"\\nEstadísticas para {columna}:\")\n",
    "        print(f\"Límite inferior: {lower_bound:.2f}\")\n",
    "        print(f\"Límite superior: {upper_bound:.2f}\")\n",
    "        print(f\"Número de outliers: {len(outliers)}\")\n",
    "    \n",
    "    bplot = ax.boxplot([item['data'] for item in all_data], \n",
    "                      labels=columnas_numericas,\n",
    "                      patch_artist=True,\n",
    "                      showfliers=False)\n",
    "    \n",
    "    colors = ['lightblue', 'lightgreen', 'lightsalmon', 'lightpink', 'lightyellow']\n",
    "    for patch, color in zip(bplot['boxes'], colors[:len(columnas_numericas)]):\n",
    "        patch.set_facecolor(color)\n",
    "    \n",
    "    for i, item in enumerate(all_data):\n",
    "        if item['outliers']:\n",
    "            ax.scatter([i+1] * len(item['outliers']), item['outliers'], \n",
    "                      color='red', alpha=0.5, s=20)\n",
    "    \n",
    "    plt.title('Distribución de Ventas por Región')\n",
    "    plt.ylabel('Ventas (en millones)')\n",
    "    plt.xlabel('Regiones')\n",
    "    plt.grid(True, linestyle='--', alpha=0.7)\n",
    "    plt.xticks(rotation=45)\n",
    "    plt.tight_layout()\n",
    "    \n",
    "    return fig\n",
    "\n",
    "columnas_numericas = ['NA_Sales', 'EU_Sales', 'JP_Sales', 'Other_Sales', 'Global_Sales']\n",
    "fig = plot_boxplot(df, columnas_numericas)\n",
    "plt.show()"
   ]
  },
  {
   "cell_type": "markdown",
   "id": "a01444b9",
   "metadata": {},
   "source": [
    "Para el analisis de los valores outliers se utilizo la tecnica de IQR la cual consiste en restar el cuatil 1 y cuartil 3, al realizar este calculo se podra obtener los valores outliers tanto de los limites superiores y los limites inferiores. Este calculo nos quiere decir que tan dispesos se van a encontrar los valores, utilizando las formulas:\n",
    "- lower_bound = Q1 - 1.5 * IQR\n",
    "- upper_bound = Q3 + 1.5 * IQR\n",
    "\n",
    "Se obtendran los valores que corresponde al limite superior y al limite inferior, si los valores se encuentran fuera de estos limites quiere decir que son valores outliers. \n",
    "De acuerdo a la explicacion y a la implementacion de las formulas al conjunto de datos podemos observar que en las columnas numericas hay valores outliers tanto bajos como altos, esto nos puede indicar que las ventas de algun determinado video juego fueron muy buenas o muy malas.\n",
    "Y se utilizo un boxplot para ver los outliers de forma grafica."
   ]
  },
  {
   "cell_type": "code",
   "execution_count": 6,
   "id": "1bed3720",
   "metadata": {},
   "outputs": [
    {
     "name": "stderr",
     "output_type": "stream",
     "text": [
      "25/04/25 16:12:15 WARN InstanceBuilder: Failed to load implementation from:dev.ludovic.netlib.blas.JNIBLAS\n",
      "                                                                                \r"
     ]
    },
    {
     "data": {
      "image/png": "[encoded data removed]",
      "text/plain": [
       "<Figure size 1000x800 with 2 Axes>"
      ]
     },
     "metadata": {},
     "output_type": "display_data"
    }
   ],
   "source": [
    "columnas_numericas = ['NA_Sales', 'EU_Sales', 'JP_Sales', 'Other_Sales', 'Global_Sales']\n",
    "\n",
    "vector_assembler = VectorAssembler(\n",
    "    inputCols=columnas_numericas,\n",
    "    outputCol=\"features\"\n",
    ")\n",
    "vector_df = vector_assembler.transform(df)\n",
    "\n",
    "pearson_matrix = Correlation.corr(vector_df, \"features\").collect()[0][0]\n",
    "correlation_matrix = pearson_matrix.toArray()\n",
    "\n",
    "plt.figure(figsize=(10, 8))\n",
    "plt.imshow(correlation_matrix, cmap='viridis', aspect='auto')\n",
    "\n",
    "for i in range(len(columnas_numericas)):\n",
    "    for j in range(len(columnas_numericas)):\n",
    "        plt.text(j, i, f\"{float(correlation_matrix[i][j]):.2f}\", \n",
    "                ha=\"center\", va=\"center\", color='white')\n",
    "\n",
    "\n",
    "plt.colorbar()\n",
    "plt.xticks(range(len(columnas_numericas)), columnas_numericas, rotation=45)\n",
    "plt.yticks(range(len(columnas_numericas)), columnas_numericas)\n",
    "plt.title(\"Matriz de Correlación de Ventas\")\n",
    "plt.tight_layout()\n",
    "\n",
    "plt.show()"
   ]
  },
  {
   "cell_type": "markdown",
   "id": "c96900d3",
   "metadata": {},
   "source": [
    "Al observar el grafico de correlacion se puede notar que la correlacion principal se encuentra en la relacion con las mismas columnas, hay pocas columnas que tienen correlacion entre si, por ejemplo las ventas globalas con las ventas de norte america, euripa y otras. Esto nos puede indicar que las ventas globales y las ventas en cada region estan relacionadas ya que las ventas por region afectan directamente a las ventas globales."
   ]
  },
  {
   "cell_type": "markdown",
   "id": "befc6224",
   "metadata": {},
   "source": [
    "Para el tratamiento de los datos se va a realizar lo siguiente:\n",
    "- Al analizar las columnas y la naturaleza de lo que representa el data set, los outliers se dejaran intactos, esto debido a que se considera que pueden ser datos utiles ya que puede ser las ventas de un juego que fue un exito o las ventas fueron tan bajas que el juego fue un fracaso.\n",
    "- Para tratar los valores que poseen 0 se multiplicara la columna por 1 000 000, ya que las ventas fueron en millones entonces esto nos ayudara a poder observar los valores reales de las ventas.\n",
    "\n",
    "Dicho esto se utilizara el siguiente codigo:"
   ]
  },
  {
   "cell_type": "code",
   "execution_count": 7,
   "id": "e563ffbe",
   "metadata": {},
   "outputs": [
    {
     "name": "stdout",
     "output_type": "stream",
     "text": [
      "+----+--------------------+--------+----+------------+--------------------+---------+-----------------+---------+------------------+------------+\n",
      "|Rank|                Name|Platform|Year|       Genre|           Publisher| NA_Sales|         EU_Sales| JP_Sales|       Other_Sales|Global_Sales|\n",
      "+----+--------------------+--------+----+------------+--------------------+---------+-----------------+---------+------------------+------------+\n",
      "|   1|          Wii Sports|     Wii|2006|      Sports|            Nintendo|  4.149E7|          2.902E7|3770000.0|         8460000.0|     8.274E7|\n",
      "|   2|   Super Mario Bros.|     NES|1985|    Platform|            Nintendo|  2.908E7|        3580000.0|6810000.0|          770000.0|     4.024E7|\n",
      "|   3|      Mario Kart Wii|     Wii|2008|      Racing|            Nintendo|  1.585E7|          1.288E7|3790000.0|         3310000.0|     3.582E7|\n",
      "|   4|   Wii Sports Resort|     Wii|2009|      Sports|            Nintendo|  1.575E7|          1.101E7|3280000.0|         2960000.0|       3.3E7|\n",
      "|   5|Pokemon Red/Pokem...|      GB|1996|Role-Playing|            Nintendo|  1.127E7|        8890000.0|  1.022E7|         1000000.0|     3.137E7|\n",
      "|   6|              Tetris|      GB|1989|      Puzzle|            Nintendo|   2.32E7|        2260000.0|4220000.0|          580000.0|     3.026E7|\n",
      "|   7|New Super Mario B...|      DS|2006|    Platform|            Nintendo|  1.138E7|        9230000.0|6500000.0|         2900000.0|     3.001E7|\n",
      "|   8|            Wii Play|     Wii|2006|        Misc|            Nintendo|  1.403E7|        9200000.0|2930000.0|         2850000.0|     2.902E7|\n",
      "|   9|New Super Mario B...|     Wii|2009|    Platform|            Nintendo|  1.459E7|        7060000.0|4700000.0|         2260000.0|     2.862E7|\n",
      "|  10|           Duck Hunt|     NES|1984|     Shooter|            Nintendo|  2.693E7|         630000.0| 280000.0|          470000.0|     2.831E7|\n",
      "|  11|          Nintendogs|      DS|2005|  Simulation|            Nintendo|9070000.0|            1.1E7|1930000.0|         2750000.0|     2.476E7|\n",
      "|  12|       Mario Kart DS|      DS|2005|      Racing|            Nintendo|9810000.0|        7570000.0|4130000.0|         1920000.0|     2.342E7|\n",
      "|  13|Pokemon Gold/Poke...|      GB|1999|Role-Playing|            Nintendo|9000000.0|        6180000.0|7200000.0|          710000.0|      2.31E7|\n",
      "|  14|             Wii Fit|     Wii|2007|      Sports|            Nintendo|8940000.0|8029999.999999999|3600000.0|         2150000.0|     2.272E7|\n",
      "|  15|        Wii Fit Plus|     Wii|2009|      Sports|            Nintendo|9090000.0|        8590000.0|2530000.0|         1790000.0|       2.2E7|\n",
      "|  16|  Kinect Adventures!|    X360|2010|        Misc|Microsoft Game St...|  1.497E7|        4940000.0| 240000.0|         1670000.0|     2.182E7|\n",
      "|  17|  Grand Theft Auto V|     PS3|2013|      Action|Take-Two Interactive|7010000.0|        9270000.0| 970000.0|4139999.9999999995|      2.14E7|\n",
      "|  18|Grand Theft Auto:...|     PS2|2004|      Action|Take-Two Interactive|9430000.0|         400000.0| 410000.0|           1.057E7|     2.081E7|\n",
      "|  19|   Super Mario World|    SNES|1990|    Platform|            Nintendo|  1.278E7|        3750000.0|3540000.0|          550000.0|     2.061E7|\n",
      "|  20|Brain Age: Train ...|      DS|2005|        Misc|            Nintendo|4750000.0|        9260000.0|4160000.0|2049999.9999999998|     2.022E7|\n",
      "+----+--------------------+--------+----+------------+--------------------+---------+-----------------+---------+------------------+------------+\n",
      "only showing top 20 rows\n",
      "\n",
      "root\n",
      " |-- Rank: integer (nullable = true)\n",
      " |-- Name: string (nullable = true)\n",
      " |-- Platform: string (nullable = true)\n",
      " |-- Year: integer (nullable = true)\n",
      " |-- Genre: string (nullable = true)\n",
      " |-- Publisher: string (nullable = true)\n",
      " |-- NA_Sales: double (nullable = true)\n",
      " |-- EU_Sales: double (nullable = true)\n",
      " |-- JP_Sales: double (nullable = true)\n",
      " |-- Other_Sales: double (nullable = true)\n",
      " |-- Global_Sales: double (nullable = true)\n",
      "\n"
     ]
    }
   ],
   "source": [
    "df_transformed = df \\\n",
    "    .withColumn(\"NA_Sales\", col(\"NA_Sales\").cast(\"double\") * 1000000) \\\n",
    "    .withColumn(\"EU_Sales\", col(\"EU_Sales\").cast(\"double\") * 1000000) \\\n",
    "    .withColumn(\"JP_Sales\", col(\"JP_Sales\").cast(\"double\") * 1000000) \\\n",
    "    .withColumn(\"Other_Sales\", col(\"Other_Sales\").cast(\"double\") * 1000000) \\\n",
    "    .withColumn(\"Global_Sales\", col(\"Global_Sales\").cast(\"double\") * 1000000)\n",
    "\n",
    "df_transformed.show()\n",
    "df_transformed.printSchema()"
   ]
  },
  {
   "cell_type": "markdown",
   "id": "d4bff51c",
   "metadata": {},
   "source": [
    "Ahora para el tratamiento de los valores nulos que se encuentran en el año se decidio que se le asiganara un año aleatorio dentro de los años que se encuentran en el dataset."
   ]
  },
  {
   "cell_type": "code",
   "execution_count": 8,
   "id": "b658b8a2",
   "metadata": {},
   "outputs": [
    {
     "name": "stdout",
     "output_type": "stream",
     "text": [
      "Verificación de valores nulos en Year después de colocarles un año aleatorio:\n",
      "Valores nulos restantes: 0\n",
      "\n",
      "Ejemplos de registros actualizados:\n",
      "+--------------------+----+\n",
      "|                Name|Year|\n",
      "+--------------------+----+\n",
      "|     Madden NFL 2004|1996|\n",
      "|    FIFA Soccer 2004|2009|\n",
      "|LEGO Batman: The ...|2003|\n",
      "|wwe Smackdown vs....|2016|\n",
      "|      Space Invaders|1982|\n",
      "+--------------------+----+\n",
      "only showing top 5 rows\n",
      "\n",
      "+----+--------------------+--------+----+------------+--------------------+---------+-----------------+---------+------------------+------------+\n",
      "|Rank|                Name|Platform|Year|       Genre|           Publisher| NA_Sales|         EU_Sales| JP_Sales|       Other_Sales|Global_Sales|\n",
      "+----+--------------------+--------+----+------------+--------------------+---------+-----------------+---------+------------------+------------+\n",
      "|   1|          Wii Sports|     Wii|2006|      Sports|            Nintendo|  4.149E7|          2.902E7|3770000.0|         8460000.0|     8.274E7|\n",
      "|   2|   Super Mario Bros.|     NES|1985|    Platform|            Nintendo|  2.908E7|        3580000.0|6810000.0|          770000.0|     4.024E7|\n",
      "|   3|      Mario Kart Wii|     Wii|2008|      Racing|            Nintendo|  1.585E7|          1.288E7|3790000.0|         3310000.0|     3.582E7|\n",
      "|   4|   Wii Sports Resort|     Wii|2009|      Sports|            Nintendo|  1.575E7|          1.101E7|3280000.0|         2960000.0|       3.3E7|\n",
      "|   5|Pokemon Red/Pokem...|      GB|1996|Role-Playing|            Nintendo|  1.127E7|        8890000.0|  1.022E7|         1000000.0|     3.137E7|\n",
      "|   6|              Tetris|      GB|1989|      Puzzle|            Nintendo|   2.32E7|        2260000.0|4220000.0|          580000.0|     3.026E7|\n",
      "|   7|New Super Mario B...|      DS|2006|    Platform|            Nintendo|  1.138E7|        9230000.0|6500000.0|         2900000.0|     3.001E7|\n",
      "|   8|            Wii Play|     Wii|2006|        Misc|            Nintendo|  1.403E7|        9200000.0|2930000.0|         2850000.0|     2.902E7|\n",
      "|   9|New Super Mario B...|     Wii|2009|    Platform|            Nintendo|  1.459E7|        7060000.0|4700000.0|         2260000.0|     2.862E7|\n",
      "|  10|           Duck Hunt|     NES|1984|     Shooter|            Nintendo|  2.693E7|         630000.0| 280000.0|          470000.0|     2.831E7|\n",
      "|  11|          Nintendogs|      DS|2005|  Simulation|            Nintendo|9070000.0|            1.1E7|1930000.0|         2750000.0|     2.476E7|\n",
      "|  12|       Mario Kart DS|      DS|2005|      Racing|            Nintendo|9810000.0|        7570000.0|4130000.0|         1920000.0|     2.342E7|\n",
      "|  13|Pokemon Gold/Poke...|      GB|1999|Role-Playing|            Nintendo|9000000.0|        6180000.0|7200000.0|          710000.0|      2.31E7|\n",
      "|  14|             Wii Fit|     Wii|2007|      Sports|            Nintendo|8940000.0|8029999.999999999|3600000.0|         2150000.0|     2.272E7|\n",
      "|  15|        Wii Fit Plus|     Wii|2009|      Sports|            Nintendo|9090000.0|        8590000.0|2530000.0|         1790000.0|       2.2E7|\n",
      "|  16|  Kinect Adventures!|    X360|2010|        Misc|Microsoft Game St...|  1.497E7|        4940000.0| 240000.0|         1670000.0|     2.182E7|\n",
      "|  17|  Grand Theft Auto V|     PS3|2013|      Action|Take-Two Interactive|7010000.0|        9270000.0| 970000.0|4139999.9999999995|      2.14E7|\n",
      "|  18|Grand Theft Auto:...|     PS2|2004|      Action|Take-Two Interactive|9430000.0|         400000.0| 410000.0|           1.057E7|     2.081E7|\n",
      "|  19|   Super Mario World|    SNES|1990|    Platform|            Nintendo|  1.278E7|        3750000.0|3540000.0|          550000.0|     2.061E7|\n",
      "|  20|Brain Age: Train ...|      DS|2005|        Misc|            Nintendo|4750000.0|        9260000.0|4160000.0|2049999.9999999998|     2.022E7|\n",
      "+----+--------------------+--------+----+------------+--------------------+---------+-----------------+---------+------------------+------------+\n",
      "only showing top 20 rows\n",
      "\n",
      "root\n",
      " |-- Rank: integer (nullable = true)\n",
      " |-- Name: string (nullable = true)\n",
      " |-- Platform: string (nullable = true)\n",
      " |-- Year: integer (nullable = true)\n",
      " |-- Genre: string (nullable = true)\n",
      " |-- Publisher: string (nullable = true)\n",
      " |-- NA_Sales: double (nullable = true)\n",
      " |-- EU_Sales: double (nullable = true)\n",
      " |-- JP_Sales: double (nullable = true)\n",
      " |-- Other_Sales: double (nullable = true)\n",
      " |-- Global_Sales: double (nullable = true)\n",
      "\n"
     ]
    }
   ],
   "source": [
    "year_stats = df_transformed.select(\n",
    "    min(col(\"Year\")).alias(\"min_year\"),\n",
    "    max(col(\"Year\")).alias(\"max_year\")\n",
    ").collect()[0]\n",
    "\n",
    "min_year = year_stats[\"min_year\"]\n",
    "max_year = year_stats[\"max_year\"]\n",
    "\n",
    "df_filled = df_transformed.withColumn(\"Year\", \n",
    "    when(col(\"Year\").isNull(), \n",
    "        (rand() * (max_year - min_year) + min_year).cast(\"integer\")\n",
    "    ).otherwise(col(\"Year\"))\n",
    ")\n",
    "\n",
    "print(\"Verificación de valores nulos en Year después de colocarles un año aleatorio:\")\n",
    "null_count = df_filled.filter(col(\"Year\").isNull()).count()\n",
    "print(f\"Valores nulos restantes: {null_count}\")\n",
    "\n",
    "print(\"\\nEjemplos de registros actualizados:\")\n",
    "df_filled.filter(df.Year.isNull()).select(\"Name\", \"Year\").show(5)\n",
    "\n",
    "df_filled.show()\n",
    "df_filled.printSchema()"
   ]
  },
  {
   "cell_type": "markdown",
   "id": "11875475",
   "metadata": {},
   "source": [
    "Una vez que se ha realizado todo el tratamiento de los datos se va a proceder a insertarlos en la base de datos. Para insertar en la base de datos no es necesario que este creada la base de datos, con el comando wirte y las credenciales correctas este podra crear la tabla y almacenar la informacion."
   ]
  },
  {
   "cell_type": "code",
   "execution_count": 9,
   "id": "d424efb6",
   "metadata": {},
   "outputs": [
    {
     "name": "stderr",
     "output_type": "stream",
     "text": [
      "                                                                                \r"
     ]
    }
   ],
   "source": [
    "df_final = df_filled.select(\n",
    "    col(\"Rank\").alias(\"rank\"),\n",
    "    col(\"Name\").alias(\"name\"),\n",
    "    col(\"Platform\").alias(\"platform\"),\n",
    "    col(\"Year\").alias(\"year\"),\n",
    "    col(\"Genre\").alias(\"genre\"),\n",
    "    col(\"Publisher\").alias(\"publisher\"),\n",
    "    col(\"NA_Sales\").alias(\"na_sales\"),\n",
    "    col(\"EU_Sales\").alias(\"eu_sales\"),\n",
    "    col(\"JP_Sales\").alias(\"jp_sales\"),\n",
    "    col(\"Other_Sales\").alias(\"other_sales\"),\n",
    "    col(\"Global_Sales\").alias(\"global_sales\")\n",
    ")\n",
    "\n",
    "df_final.write \\\n",
    "    .format(\"jdbc\") \\\n",
    "    .option(\"url\", \"jdbc:postgresql://host.docker.internal:5433/postgres\") \\\n",
    "    .option(\"dbtable\", \"tarea3\") \\\n",
    "    .option(\"user\", \"postgres\") \\\n",
    "    .option(\"password\", \"testPassword\") \\\n",
    "    .mode(\"overwrite\") \\\n",
    "    .save()"
   ]
  },
  {
   "cell_type": "markdown",
   "id": "c71a30cc",
   "metadata": {},
   "source": [
    "Con el codigo anterior se podra guardar los datos limpios en la base datos, con el codigo siguiente verificaremos si los datos fueron almacenados de forma que se puedan extrar los datos de manera exitosa en para poder continuar con la creacion y evaluacion del modelo."
   ]
  },
  {
   "cell_type": "code",
   "execution_count": 10,
   "id": "8e3f1cb9",
   "metadata": {},
   "outputs": [
    {
     "name": "stdout",
     "output_type": "stream",
     "text": [
      "Total de registros: 16598\n",
      "\n",
      "Muestra de los primeros 5 registros:\n",
      "+----+--------------------+--------+----+------------+---------+--------+---------+---------+-----------+------------+\n",
      "|rank|                name|platform|year|       genre|publisher|na_sales| eu_sales| jp_sales|other_sales|global_sales|\n",
      "+----+--------------------+--------+----+------------+---------+--------+---------+---------+-----------+------------+\n",
      "|   1|          Wii Sports|     Wii|2006|      Sports| Nintendo| 4.149E7|  2.902E7|3770000.0|  8460000.0|     8.274E7|\n",
      "|   2|   Super Mario Bros.|     NES|1985|    Platform| Nintendo| 2.908E7|3580000.0|6810000.0|   770000.0|     4.024E7|\n",
      "|   3|      Mario Kart Wii|     Wii|2008|      Racing| Nintendo| 1.585E7|  1.288E7|3790000.0|  3310000.0|     3.582E7|\n",
      "|   4|   Wii Sports Resort|     Wii|2009|      Sports| Nintendo| 1.575E7|  1.101E7|3280000.0|  2960000.0|       3.3E7|\n",
      "|   5|Pokemon Red/Pokem...|      GB|1996|Role-Playing| Nintendo| 1.127E7|8890000.0|  1.022E7|  1000000.0|     3.137E7|\n",
      "+----+--------------------+--------+----+------------+---------+--------+---------+---------+-----------+------------+\n",
      "only showing top 5 rows\n",
      "\n"
     ]
    }
   ],
   "source": [
    "df_prediction = spark.read \\\n",
    "    .format(\"jdbc\") \\\n",
    "    .option(\"url\", \"jdbc:postgresql://host.docker.internal:5433/postgres\") \\\n",
    "    .option(\"dbtable\", \"tarea3\") \\\n",
    "    .option(\"user\", \"postgres\") \\\n",
    "    .option(\"password\", \"testPassword\") \\\n",
    "    .load()\n",
    "\n",
    "print(f\"Total de registros: {df_prediction.count()}\")\n",
    "print(\"\\nMuestra de los primeros 5 registros:\")\n",
    "df_prediction.show(5)"
   ]
  },
  {
   "cell_type": "markdown",
   "id": "14738080",
   "metadata": {},
   "source": [
    "Una vez que se realizo la confirmacion que los datos fueron insertados de manera exitosa se va a proceder a realizar la prediccion que se menciono al inicio del notebook, que es ver si cada video juego le genero perdidas o ganancias a su respectiva compañia."
   ]
  },
  {
   "cell_type": "code",
   "execution_count": 15,
   "id": "671a6b22",
   "metadata": {},
   "outputs": [
    {
     "name": "stdout",
     "output_type": "stream",
     "text": [
      "\n",
      "Mejores parámetros:\n",
      "MaxDepth: 10\n",
      "MinInstancesPerNode: 4\n",
      "\n",
      "Accuracy del modelo: 0.9916\n",
      "Precisión del modelo: 0.9916\n",
      "+--------------------+--------+----+------------+--------------------+------------+---------+--------+--------+-----------+----------+---------+\n",
      "|                name|platform|year|       genre|           publisher|global_sales| na_sales|eu_sales|jp_sales|other_sales|prediction|resultado|\n",
      "+--------------------+--------+----+------------+--------------------+------------+---------+--------+--------+-----------+----------+---------+\n",
      "|.hack//G.U. Vol.2...|     PS2|2006|Role-Playing|  Namco Bandai Games|    230000.0| 110000.0| 90000.0|     0.0|    30000.0|       0.0|  Pérdida|\n",
      "|.hack//Infection ...|     PS2|2002|Role-Playing|               Atari|   1270000.0| 490000.0|380000.0|260000.0|   130000.0|       1.0| Ganancia|\n",
      "|         .hack//Link|     PSP|2010|Role-Playing|  Namco Bandai Games|    140000.0|      0.0|     0.0|140000.0|        0.0|       0.0|  Pérdida|\n",
      "|.hack//Mutation P...|     PS2|2002|Role-Playing|               Atari|    680000.0| 230000.0|180000.0|200000.0|    60000.0|       1.0| Ganancia|\n",
      "|007: Quantum of S...|      DS|2008|      Action|          Activision|    140000.0| 110000.0| 10000.0|     0.0|    10000.0|       0.0|  Pérdida|\n",
      "|007: Quantum of S...|    X360|2008|      Action|          Activision|   1490000.0| 820000.0|520000.0| 10000.0|   140000.0|       1.0| Ganancia|\n",
      "|        1/2 Summer +|     PSP|2013|   Adventure|         Kaga Create|     10000.0|      0.0|     0.0| 10000.0|        0.0|       0.0|  Pérdida|\n",
      "|  10 Minute Solution|     Wii|2010|      Sports|          Activision|     80000.0|  60000.0| 10000.0|     0.0|    10000.0|       0.0|  Pérdida|\n",
      "|   100 Classic Books|      DS|2008|        Misc|            Nintendo|    670000.0| 130000.0|520000.0|     0.0|    20000.0|       1.0| Ganancia|\n",
      "|101-in-1 Sports M...|      DS|2010|      Sports|         Nordcurrent|     80000.0|  80000.0|     0.0|     0.0|    10000.0|       0.0|  Pérdida|\n",
      "|12Riven: The Psi-...|     PS2|2008|   Adventure|          CyberFront|     40000.0|      0.0|     0.0| 40000.0|        0.0|       0.0|  Pérdida|\n",
      "|    187: Ride or Die|     PS2|2005|      Racing|             Ubisoft|    150000.0|  70000.0| 60000.0|     0.0|    20000.0|       0.0|  Pérdida|\n",
      "|2 Games in 1: Dis...|     GBA|2005|      Action|                 THQ|    310000.0| 220000.0| 80000.0|     0.0|    10000.0|       0.0|  Pérdida|\n",
      "|2 Games in 1: Son...|     GBA|2005|        Misc|                 THQ|    610000.0| 440000.0|160000.0|     0.0|    10000.0|       1.0| Ganancia|\n",
      "|2 Games in 1: Son...|     GBA|2005|        Misc|                Sega|     60000.0|  40000.0| 20000.0|     0.0|        0.0|       0.0|  Pérdida|\n",
      "|2 Games in 1: Spo...|     GBA|2005|    Platform|                 THQ|    450000.0| 330000.0|120000.0|     0.0|    10000.0|       0.0|  Pérdida|\n",
      "| 2002 FIFA World Cup|      XB|2002|      Sports|     Electronic Arts|    190000.0| 140000.0| 40000.0|     0.0|    10000.0|       0.0|  Pérdida|\n",
      "|2010 FIFA World C...|     Wii|2010|      Sports|     Electronic Arts|    430000.0| 230000.0|150000.0| 10000.0|    40000.0|       0.0|  Pérdida|\n",
      "|        24: The Game|     PS2|2006|   Adventure|Sony Computer Ent...|    300000.0| 150000.0|120000.0|     0.0|    40000.0|       0.0|  Pérdida|\n",
      "|             2Xtreme|      PS|1996|      Sports|Sony Computer Ent...|   1400000.0|1150000.0|200000.0|     0.0|    50000.0|       1.0| Ganancia|\n",
      "+--------------------+--------+----+------------+--------------------+------------+---------+--------+--------+-----------+----------+---------+\n",
      "only showing top 20 rows\n",
      "\n"
     ]
    }
   ],
   "source": [
    "features = [\"na_sales\", \"eu_sales\", \"jp_sales\", \"other_sales\", \"global_sales\"]\n",
    "\n",
    "assembler = VectorAssembler(inputCols=features, outputCol=\"features\")\n",
    "\n",
    "percentil_75 = df_prediction.approxQuantile(\"global_sales\", [0.75], 0.01)[0]\n",
    "data = df_prediction.withColumn(\n",
    "    \"label\",\n",
    "    when(col(\"global_sales\") >= percentil_75, 1.0).otherwise(0.0)\n",
    ")\n",
    "\n",
    "data_vectorized = assembler.transform(data)\n",
    "train_data, test_data = data_vectorized.randomSplit([0.7, 0.3], seed=42)\n",
    "\n",
    "dt = DecisionTreeClassifier(\n",
    "    featuresCol=\"features\",\n",
    "    labelCol=\"label\",\n",
    "    seed=42\n",
    ")\n",
    "\n",
    "evaluator = MulticlassClassificationEvaluator(\n",
    "    labelCol=\"label\",\n",
    "    predictionCol=\"prediction\",\n",
    "    metricName=\"accuracy\"\n",
    ")\n",
    "\n",
    "evaluator_precision = MulticlassClassificationEvaluator(\n",
    "    labelCol=\"label\",\n",
    "    predictionCol=\"prediction\",\n",
    "    metricName=\"weightedPrecision\"\n",
    ")\n",
    "\n",
    "paramGrid = ParamGridBuilder() \\\n",
    "    .addGrid(dt.maxDepth, [5, 10, 15]) \\\n",
    "    .addGrid(dt.minInstancesPerNode, [1, 2, 4]) \\\n",
    "    .build()\n",
    "\n",
    "crossval = CrossValidator(\n",
    "    estimator=dt,\n",
    "    estimatorParamMaps=paramGrid,\n",
    "    evaluator=evaluator,\n",
    "    numFolds=5,\n",
    "    seed=42\n",
    ")\n",
    "\n",
    "cv_model = crossval.fit(train_data)\n",
    "\n",
    "best_model = cv_model.bestModel\n",
    "print(\"\\nMejores parámetros:\")\n",
    "print(f\"MaxDepth: {best_model.getMaxDepth()}\")\n",
    "print(f\"MinInstancesPerNode: {best_model.getMinInstancesPerNode()}\")\n",
    "\n",
    "predictions = cv_model.transform(test_data)\n",
    "accuracy_decision = evaluator.evaluate(predictions)\n",
    "print(f\"\\nAccuracy del modelo: {accuracy_decision:.4f}\")\n",
    "precision_decision = evaluator_precision.evaluate(predictions)\n",
    "print(f\"Precisión del modelo: {precision_decision:.4f}\")\n",
    "\n",
    "predictions_labeled = predictions.withColumn(\n",
    "    \"resultado\",\n",
    "    when(col(\"prediction\") == 1.0, \"Ganancia\")\n",
    "    .otherwise(\"Pérdida\")\n",
    ")\n",
    "\n",
    "predictions_detailed = predictions_labeled.select(\n",
    "    \"name\",\n",
    "    \"platform\",\n",
    "    \"year\",\n",
    "    \"genre\",\n",
    "    \"publisher\",\n",
    "    \"global_sales\",\n",
    "    \"na_sales\",\n",
    "    \"eu_sales\", \n",
    "    \"jp_sales\",\n",
    "    \"other_sales\",\n",
    "    \"prediction\",\n",
    "    \"resultado\"\n",
    ").dropDuplicates([\"name\", \"platform\", \"year\", \"publisher\"])\n",
    "\n",
    "predictions_detailed.show()"
   ]
  },
  {
   "cell_type": "code",
   "execution_count": 16,
   "id": "a5d7aafd",
   "metadata": {},
   "outputs": [],
   "source": [
    "predictions_detailed.write \\\n",
    "    .format(\"jdbc\") \\\n",
    "    .option(\"url\", \"jdbc:postgresql://host.docker.internal:5433/postgres\") \\\n",
    "    .option(\"dbtable\", \"modelo1\") \\\n",
    "    .option(\"user\", \"postgres\") \\\n",
    "    .option(\"password\", \"testPassword\") \\\n",
    "    .mode(\"overwrite\") \\\n",
    "    .save()"
   ]
  },
  {
   "cell_type": "markdown",
   "id": "d81883ee",
   "metadata": {},
   "source": [
    "Para el modelo 1 de predicciones se utilizo un Decision Tree el cual se establecio que los juegos que estuvieran por encima del 3 cuartil que seria el 75% de las ventas globales serian ganancias y se identificaria con un 1, de lo contrario se identificara con un 0 como una perdida. Para esto se dividio el conjunto de datos en train con un 70% de los datos y en test con un 30% de los datos para entrenar y probar el modelo. Al utilizar un Decision Tree se utilizaron los hiperparametros de que se probara con una profundidad de 5, 10 y 15 el cual es la profundidad del arbol y que contara con 1, 2 y 4 nodos que son los ejemplos minimos para poder tomar una decision.\n",
    "\n",
    "Al utilizar este modelo de clasificacion se obtiene que los mejores hiperparametros son que los bosques deben de tener una profundidad de 10 con 4 nodos cada uno, obteniendo un accuracy de un 0.9916 y una precision de 0.9916 el cual es casi el 100%.\n",
    "\n",
    "Tambien se obtuvo que al utilizar la funcion de randomSplit algunos registros fueron duplicados por lo que para solucionar este problema se lo utilizo la funcion \"dropDuplicates\" para eliminar estos registros duplicados y que no se vea afectada la integridad de los datos."
   ]
  },
  {
   "cell_type": "code",
   "execution_count": 17,
   "id": "5b25b767",
   "metadata": {},
   "outputs": [
    {
     "name": "stdout",
     "output_type": "stream",
     "text": [
      "\n",
      "Mejores parámetros:\n",
      "Número de árboles: 30\n",
      "Profundidad máxima: 5\n",
      "Instancias mínimas por nodo: 1\n",
      "\n",
      "Acuracy del modelo: 0.9897\n",
      "Precisión del modelo: 0.9899\n",
      "+--------------------+--------+----+------------+--------------------+------------+---------+--------+--------+-----------+----------+---------+\n",
      "|                name|platform|year|       genre|           publisher|global_sales| na_sales|eu_sales|jp_sales|other_sales|prediction|resultado|\n",
      "+--------------------+--------+----+------------+--------------------+------------+---------+--------+--------+-----------+----------+---------+\n",
      "|.hack//G.U. Vol.2...|     PS2|2006|Role-Playing|  Namco Bandai Games|    230000.0| 110000.0| 90000.0|     0.0|    30000.0|       0.0|  Pérdida|\n",
      "|.hack//Infection ...|     PS2|2002|Role-Playing|               Atari|   1270000.0| 490000.0|380000.0|260000.0|   130000.0|       1.0| Ganancia|\n",
      "|         .hack//Link|     PSP|2010|Role-Playing|  Namco Bandai Games|    140000.0|      0.0|     0.0|140000.0|        0.0|       0.0|  Pérdida|\n",
      "|.hack//Mutation P...|     PS2|2002|Role-Playing|               Atari|    680000.0| 230000.0|180000.0|200000.0|    60000.0|       1.0| Ganancia|\n",
      "|007: Quantum of S...|      DS|2008|      Action|          Activision|    140000.0| 110000.0| 10000.0|     0.0|    10000.0|       0.0|  Pérdida|\n",
      "|007: Quantum of S...|    X360|2008|      Action|          Activision|   1490000.0| 820000.0|520000.0| 10000.0|   140000.0|       1.0| Ganancia|\n",
      "|        1/2 Summer +|     PSP|2013|   Adventure|         Kaga Create|     10000.0|      0.0|     0.0| 10000.0|        0.0|       0.0|  Pérdida|\n",
      "|  10 Minute Solution|     Wii|2010|      Sports|          Activision|     80000.0|  60000.0| 10000.0|     0.0|    10000.0|       0.0|  Pérdida|\n",
      "|   100 Classic Books|      DS|2008|        Misc|            Nintendo|    670000.0| 130000.0|520000.0|     0.0|    20000.0|       1.0| Ganancia|\n",
      "|101-in-1 Sports M...|      DS|2010|      Sports|         Nordcurrent|     80000.0|  80000.0|     0.0|     0.0|    10000.0|       0.0|  Pérdida|\n",
      "|12Riven: The Psi-...|     PS2|2008|   Adventure|          CyberFront|     40000.0|      0.0|     0.0| 40000.0|        0.0|       0.0|  Pérdida|\n",
      "|    187: Ride or Die|     PS2|2005|      Racing|             Ubisoft|    150000.0|  70000.0| 60000.0|     0.0|    20000.0|       0.0|  Pérdida|\n",
      "|2 Games in 1: Dis...|     GBA|2005|      Action|                 THQ|    310000.0| 220000.0| 80000.0|     0.0|    10000.0|       0.0|  Pérdida|\n",
      "|2 Games in 1: Son...|     GBA|2005|        Misc|                 THQ|    610000.0| 440000.0|160000.0|     0.0|    10000.0|       1.0| Ganancia|\n",
      "|2 Games in 1: Son...|     GBA|2005|        Misc|                Sega|     60000.0|  40000.0| 20000.0|     0.0|        0.0|       0.0|  Pérdida|\n",
      "|2 Games in 1: Spo...|     GBA|2005|    Platform|                 THQ|    450000.0| 330000.0|120000.0|     0.0|    10000.0|       0.0|  Pérdida|\n",
      "| 2002 FIFA World Cup|      XB|2002|      Sports|     Electronic Arts|    190000.0| 140000.0| 40000.0|     0.0|    10000.0|       0.0|  Pérdida|\n",
      "|2010 FIFA World C...|     Wii|2010|      Sports|     Electronic Arts|    430000.0| 230000.0|150000.0| 10000.0|    40000.0|       0.0|  Pérdida|\n",
      "|        24: The Game|     PS2|2006|   Adventure|Sony Computer Ent...|    300000.0| 150000.0|120000.0|     0.0|    40000.0|       0.0|  Pérdida|\n",
      "|             2Xtreme|      PS|1996|      Sports|Sony Computer Ent...|   1400000.0|1150000.0|200000.0|     0.0|    50000.0|       1.0| Ganancia|\n",
      "+--------------------+--------+----+------------+--------------------+------------+---------+--------+--------+-----------+----------+---------+\n",
      "only showing top 20 rows\n",
      "\n"
     ]
    }
   ],
   "source": [
    "data_vectorized_random = assembler.transform(data)\n",
    "train_data_random, test_data_random = data_vectorized_random.randomSplit([0.7, 0.3], seed=42)\n",
    "\n",
    "rf = RandomForestClassifier(\n",
    "    featuresCol=\"features\",\n",
    "    labelCol=\"label\",\n",
    "    seed=42\n",
    ")\n",
    "\n",
    "evaluator_random = MulticlassClassificationEvaluator(\n",
    "    labelCol=\"label\",\n",
    "    predictionCol=\"prediction\",\n",
    "    metricName=\"accuracy\"\n",
    ")\n",
    "\n",
    "evaluator_precision_random = MulticlassClassificationEvaluator(\n",
    "    labelCol=\"label\",\n",
    "    predictionCol=\"prediction\",\n",
    "    metricName=\"weightedPrecision\"\n",
    ")\n",
    "\n",
    "paramGrid_random = ParamGridBuilder() \\\n",
    "    .addGrid(rf.numTrees, [10, 20, 30]) \\\n",
    "    .addGrid(rf.maxDepth, [5, 10]) \\\n",
    "    .addGrid(rf.minInstancesPerNode, [1, 2]) \\\n",
    "    .build()\n",
    "\n",
    "crossval = CrossValidator(\n",
    "    estimator=rf,\n",
    "    estimatorParamMaps=paramGrid_random,\n",
    "    evaluator=evaluator,\n",
    "    numFolds=5,\n",
    "    seed=42\n",
    ")\n",
    "\n",
    "cv_model = crossval.fit(train_data_random)\n",
    "\n",
    "best_model = cv_model.bestModel\n",
    "print(\"\\nMejores parámetros:\")\n",
    "print(f\"Número de árboles: {best_model.getNumTrees}\")\n",
    "print(f\"Profundidad máxima: {best_model.getMaxDepth()}\")\n",
    "print(f\"Instancias mínimas por nodo: {best_model.getMinInstancesPerNode()}\")\n",
    "\n",
    "predictions_random = cv_model.transform(test_data_random)\n",
    "accuracy_random = evaluator_random.evaluate(predictions_random)\n",
    "print(f\"\\nAcuracy del modelo: {accuracy_random:.4f}\")\n",
    "precision_random = evaluator_precision_random.evaluate(predictions_random)\n",
    "print(f\"Precisión del modelo: {precision_random:.4f}\")\n",
    "\n",
    "predictions_clean_random = predictions_random.select(\n",
    "    \"name\",\n",
    "    \"platform\",\n",
    "    \"year\",\n",
    "    \"genre\",\n",
    "    \"publisher\",\n",
    "    \"global_sales\",\n",
    "    \"na_sales\",\n",
    "    \"eu_sales\", \n",
    "    \"jp_sales\",\n",
    "    \"other_sales\",\n",
    "    \"prediction\"\n",
    ").dropDuplicates([\"name\", \"platform\", \"year\", \"publisher\"])\n",
    "\n",
    "predictions_labeled_random = predictions_clean_random.withColumn(\n",
    "    \"resultado\",\n",
    "    when(col(\"prediction\") == 1.0, \"Ganancia\")\n",
    "    .otherwise(\"Pérdida\")\n",
    ")\n",
    "\n",
    "predictions_labeled_random.show()"
   ]
  },
  {
   "cell_type": "code",
   "execution_count": 18,
   "id": "a4b7b42b",
   "metadata": {},
   "outputs": [],
   "source": [
    "predictions_labeled_random.write \\\n",
    "    .format(\"jdbc\") \\\n",
    "    .option(\"url\", \"jdbc:postgresql://host.docker.internal:5433/postgres\") \\\n",
    "    .option(\"dbtable\", \"modelo2\") \\\n",
    "    .option(\"user\", \"postgres\") \\\n",
    "    .option(\"password\", \"testPassword\") \\\n",
    "    .mode(\"overwrite\") \\\n",
    "    .save()"
   ]
  },
  {
   "cell_type": "markdown",
   "id": "1a61bf54",
   "metadata": {},
   "source": [
    "Para el modelo 2 se utilizo Random Forest el cual de manera similar al Desicion Tree se utilizaron hiperparametros para que se probaran bosques con 10, 20 o 30 abroles y que se probara si la profundidad de cada arbol fuera de 5 o 10, y que las instancias por nodo fueran 1 o 2, teniendo asi que los mejores parametros son:\n",
    "- Número de árboles: 30\n",
    "- Profundidad máxima: 5\n",
    "- Instancias mínimas por nodo: 1\n",
    "\n",
    "Se obtuvieron resultados muy similares al Decision Tree, solo que el Decision Tree tiene un rendimiento un poco mejor , por un 0.0071 lo cual es una diferencia muy poca. Para ambos modelos se puede concluir que son muy buenos para realizar la prediccion del conjunto de datos, pero si se recomienda uno se recomendaria el Decision Tree por que es un poco superior de acuerdo a las metricas que se utilizaron para evaluar el modelo."
   ]
  },
  {
   "cell_type": "code",
   "execution_count": 19,
   "id": "8711ed0c",
   "metadata": {},
   "outputs": [
    {
     "name": "stdout",
     "output_type": "stream",
     "text": [
      "\n",
      "Accuracy del modelo decision tree: 0.9916\n",
      "Precisión del modelo decision tree: 0.9916\n",
      "\n",
      "Acuracy del modelo random forest: 0.9897\n",
      "Precisión del modelo random forest: 0.9899\n"
     ]
    }
   ],
   "source": [
    "print(f\"\\nAccuracy del modelo decision tree: {accuracy_decision:.4f}\")\n",
    "print(f\"Precisión del modelo decision tree: {precision_decision:.4f}\")\n",
    "\n",
    "print(f\"\\nAcuracy del modelo random forest: {accuracy_random:.4f}\")\n",
    "print(f\"Precisión del modelo random forest: {precision_random:.4f}\")"
   ]
  }
 ],
 "metadata": {
  "kernelspec": {
   "display_name": "Python 3 (ipykernel)",
   "language": "python",
   "name": "python3"
  },
  "language_info": {
   "codemirror_mode": {
    "name": "ipython",
    "version": 3
   },
   "file_extension": ".py",
   "mimetype": "text/x-python",
   "name": "python",
   "nbconvert_exporter": "python",
   "pygments_lexer": "ipython3",
   "version": "3.7.10"
  }
 },
 "nbformat": 4,
 "nbformat_minor": 5
}
