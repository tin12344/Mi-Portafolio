{
 "cells": [
  {
   "cell_type": "markdown",
   "metadata": {
    "id": "jspJzbRAbQ24"
   },
   "source": [
    "# Curso: Aprendizaje Automático\n",
    "# Trabajo Práctico 5\n",
    "\n",
    "Profesor: Luis Alexánder Calvo Valverde\n",
    "\n",
    "Instituto Tecnológico de Costa Rica\n",
    "\n",
    "Programa Ciencia de Datos\n",
    "\n",
    "---\n",
    "\n",
    "Fecha de entrega: Lunes 18 de Noviembre 2024, a más tardar a las 3:00 pm.\n",
    "\n",
    "Medio de entrega: Por medio del TEC-Digital.\n",
    "\n",
    "Entregables: Un archivo jupyter ( .IPYNB ) y todos los archivos adiconales que se requieran para correr su Cuaderno (En un archivo comprimido)\n",
    "\n",
    "Estudiante:\n",
    "1. **Agustin Vargas Quesada**\n"
   ]
  },
  {
   "cell_type": "markdown",
   "metadata": {
    "id": "IxgcjVLkTv1W"
   },
   "source": [
    "___\n",
    "\n",
    "## Clustering\n",
    "___"
   ]
  },
  {
   "cell_type": "markdown",
   "metadata": {
    "id": "bbGtPXrMTv1W"
   },
   "source": [
    "### Considere lo siguiente:\n",
    "1. Conjunto de datos: **datos_imagenes_USAR.csv** (Adjunto)\n",
    "1. Este dataset corresponde a pixeles en imágenes, a partir de las cuales se desea descubrir cuántos grupos (clusters) se podrían encontrar. Se cree que son diferentes emociones de las personas en las imágenes (alegría, enojo, tristeza, etc).\n",
    "1. Proponga un algoritmo a utilizar (Para su mayor aprendizaje, se recomienda utilizar un algoritmo diferente de kmeans, pero si luego de buscar no se siente segur(a/o) que entendió el algoritmo y sus hyperparpametros, puede utilizar kmeans)\n",
    "1. Proponga una métrica, la cual debe ser **interna**.\n",
    "1. Debe presentar en este cuaderno:\n",
    "    1. Pre-procesamiento de los datos, explicando las decisiones en cada caso. Observará que en este caso viene bastante preparado (10 puntos)\n",
    "    1. Para el algoritmo seleccionado:\n",
    "        1. Explicación detallada del algoritmo. (10 puntos)\n",
    "        1. Explicación de la implementación seleccionada y de sus parámetros. (10 puntos)\n",
    "    1. Explicación del diseño experimental por ejecutar. En este caso recuerde que es aprendizaje NO Supervisado. Además en cuanto al número de clusters, se cree que es mayor que uno y menor que veinte. (5 puntos)\n",
    "    1. Programación del diseño experimental. (30 puntos)\n",
    "    1. Muestre en una tabla los resultados de la métrica. (15 puntos)\n",
    "    1. Grafique las métrica para ver el criterio del codo.(10 puntos)\n",
    "    1. ¿Cuál es el númermo de cluster que considera mejor describe el conjunto de datos? ¿Cómo defendería su recomendación ante su jefe o quien le contrata? (10 puntos)"
   ]
  },
  {
   "cell_type": "markdown",
   "metadata": {
    "id": "B-uBFtQoTyNa"
   },
   "source": [
    "## Nota formativa\n",
    "\n",
    "Las imágenes en archivos digitales se representan mediante una matriz de píxeles, donde cada píxel es un pequeño punto que contiene información sobre el color y la luminosidad.\n",
    "\n",
    "- Píxeles: Son los elementos más pequeños de una imagen digital. Cada píxel tiene un color que se define mediante valores numéricos.\n",
    "\n",
    "- Modelos de Color:\n",
    "\n",
    "  - RGB: Es uno de los modelos más comunes. Cada píxel se representa con tres valores, correspondientes a los colores Rojo, Verde y Azul (Red, Green, Blue). Los valores suelen estar en un rango de 0 a 255, lo que permite representar hasta 16.7 millones de colores.\n",
    "  - CMYK: Utilizado en impresión, se basa en los colores Cian, Magenta, Amarillo y Negro.\n",
    "  - Grayscale: Representa imágenes en escala de grises, utilizando un solo valor por píxel que indica la intensidad de la luz.\n",
    "- Profundidad de Color: Indica cuántos bits se utilizan para representar el color de cada píxel. Por ejemplo, una profundidad de color de 8 bits por canal en RGB permite 256 niveles de rojo, 256 de verde y 256 de azul.\n",
    "\n",
    "- Resolución: Es la cantidad de píxeles en una imagen, generalmente expresada como la cantidad de píxeles a lo largo del ancho y la altura (por ejemplo, 1920x1080 píxeles).\n",
    "\n",
    "- Formato de Archivo: Las imágenes digitales se almacenan en varios formatos que pueden comprimir la información para ahorrar espacio o mantener la calidad. Algunos formatos comunes incluyen:\n",
    "\n",
    "  - JPEG: Compresión con pérdida, útil para fotografías.\n",
    "  - PNG: Compresión sin pérdida, soporta transparencia.\n",
    "  - GIF: Soporta animaciones y una paleta limitada de colores.\n",
    "  - BMP: Formato sin compresión.\n",
    "\n",
    "Estos elementos permiten la creación, almacenamiento y visualización de imágenes digitales en diversos dispositivos y plataformas.\n",
    "\n",
    "Algunos detalles adicionales en: https://medium.com/codex/computer-vision-fundamentals-with-opencv-9fc93b61e3e8\n"
   ]
  },
  {
   "cell_type": "code",
   "execution_count": 55,
   "metadata": {
    "id": "IvHRhZN4Uwa3"
   },
   "outputs": [],
   "source": [
    "import pandas as pd\n",
    "import numpy as np\n",
    "from sklearn.cluster import DBSCAN\n",
    "import matplotlib.pyplot as plt\n",
    "from scipy.spatial.distance import cdist"
   ]
  },
  {
   "cell_type": "code",
   "execution_count": 40,
   "metadata": {},
   "outputs": [],
   "source": [
    "# Cargar el archivo\n",
    "df = pd.read_csv('datos_imagenes_USAR.csv', delimiter=';')"
   ]
  },
  {
   "cell_type": "code",
   "execution_count": 41,
   "metadata": {},
   "outputs": [],
   "source": [
    "def calcular_separacion(df, labels):\n",
    "    if len(set(labels)) <= 1:\n",
    "        return 0\n",
    "    \n",
    "    clusters_unicos = np.unique(labels)\n",
    "    clusters_unicos = clusters_unicos[clusters_unicos != -1]\n",
    "    \n",
    "    if len(clusters_unicos) <= 1:\n",
    "        return 0\n",
    "        \n",
    "    separacion_total = 0\n",
    "    n_comparaciones = 0\n",
    "    \n",
    "    for i in range(len(clusters_unicos)):\n",
    "        for j in range(i + 1, len(clusters_unicos)):\n",
    "            puntos_cluster1 = X[labels == clusters_unicos[i]]\n",
    "            puntos_cluster2 = X[labels == clusters_unicos[j]]\n",
    "            distancias = cdist(puntos_cluster1, puntos_cluster2)\n",
    "            separacion_total += np.mean(distancias)\n",
    "            n_comparaciones += 1\n",
    "    \n",
    "    return separacion_total / n_comparaciones if n_comparaciones > 0 else 0"
   ]
  },
  {
   "cell_type": "code",
   "execution_count": 58,
   "metadata": {},
   "outputs": [
    {
     "name": "stdout",
     "output_type": "stream",
     "text": [
      "\n",
      "Tabla de Resultados:\n",
      "    eps  n_clusters  n_noise   separacion\n",
      "0     1           1    35875     0.000000\n",
      "1     2           1    35875     0.000000\n",
      "2     3           1    35875     0.000000\n",
      "3     4           2    35865  7838.870396\n",
      "4     5           2    35865  7838.870396\n",
      "5     6           2    35864  7822.178782\n",
      "6     7           2    35864  7822.178782\n",
      "7     8           2    35864  7822.178782\n",
      "8     9           2    35863  7796.289509\n",
      "9    10           2    35863  7796.289509\n",
      "10   11           3    35852  6163.799213\n",
      "11   12           3    35850  6157.277142\n",
      "12   13           3    35850  6157.277142\n",
      "13   14           5    35827  5401.057058\n",
      "14   15           5    35810  5375.498114\n",
      "15   16          10    35736  4831.552816\n",
      "16   17           9    35629  4090.828666\n",
      "17   18          11    35493  3953.167103\n",
      "18   19          12    35319  4034.233916\n",
      "19   20          10    35122  4250.426162\n"
     ]
    }
   ],
   "source": [
    "# Lista de valores de eps a probar\n",
    "eps_values = [1, 2, 3, 4, 5, 6, 7, 8, 9, 10, 11, 12, 13, 14, 15 ,16, 17, 18, 19, 20]\n",
    "\n",
    "# Almacenar resultados\n",
    "resultados = []\n",
    "\n",
    "for eps in eps_values:\n",
    "    # Crear y ajustar modelo\n",
    "    dbscan = DBSCAN(eps=eps, min_samples=10)\n",
    "    clusters = dbscan.fit_predict(datos_scaled)\n",
    "    \n",
    "    # Calcular métricas\n",
    "    n_clusters = len(set(clusters)) - (1 if -1 in clusters else 0)\n",
    "    n_noise = list(clusters).count(-1)\n",
    "    separacion = calcular_separacion(df, clusters)\n",
    "    \n",
    "    # Guardar resultados\n",
    "    resultados.append({\n",
    "        'eps': eps,\n",
    "        'n_clusters': n_clusters,\n",
    "        'n_noise': n_noise,\n",
    "        'separacion': separacion,\n",
    "    })\n",
    "\n",
    "# Convertir a DataFrame\n",
    "df_resultados = pd.DataFrame(resultados)\n",
    "\n",
    "# Mostrar tabla de resultados\n",
    "print(\"\\nTabla de Resultados:\")\n",
    "print(df_resultados)"
   ]
  },
  {
   "cell_type": "code",
   "execution_count": 57,
   "metadata": {},
   "outputs": [
    {
     "data": {
      "image/png": "[encoded data removed]",
      "text/plain": [
       "<Figure size 1200x400 with 1 Axes>"
      ]
     },
     "metadata": {},
     "output_type": "display_data"
    }
   ],
   "source": [
    "# Graficar criterio del codo\n",
    "plt.figure(figsize=(12, 4))\n",
    "\n",
    "# Gráfico del codo\n",
    "plt.subplot(1, 2, 1)\n",
    "plt.plot(df_resultados['eps'], df_resultados['n_clusters'], 'bo-')\n",
    "plt.xlabel('Epsilon')\n",
    "plt.ylabel('Número de Clusters')\n",
    "plt.title('Criterio del Codo')\n",
    "plt.grid(True)"
   ]
  },
  {
   "cell_type": "code",
   "execution_count": null,
   "metadata": {},
   "outputs": [],
   "source": [
    "# Graficar criterio del codo\n",
    "plt.figure(figsize=(12, 4))\n",
    "\n",
    "# Gráfico del codo\n",
    "plt.subplot(1, 2, 1)\n",
    "plt.plot(df_resultados['eps'], df_resultados['n_clusters'], 'bo-')\n",
    "plt.xlabel('Epsilon')\n",
    "plt.ylabel('Número de Clusters')\n",
    "plt.title('Criterio del Codo')\n",
    "plt.grid(True)"
   ]
  },
  {
   "cell_type": "markdown",
   "metadata": {},
   "source": [
    "Para realizar los cluster se utilizo el modelo e DBSCAN, ya que al investigar este modelo no requiere que se le indique la cantidad de clusters que debe de tener si no que el lo que hace es relaizar los cluser por si solo identifando areas de densidad y de esta manera crea los clusters y en los puntos donde no hay densidad este lo clasifica como ruido.\n",
    "Para este algoritmo se utilizo la metrica interna de separacion, la cual nos esta indicando la distancia entre cada uno de los clusters, esto nos indica que un valor alto los clusters estan muy separado y un valor muy bajo es que estan muy unidos, como podemos ver si es 1 cluster la separacion es 0 porque seria un solo cluster, para este ejemplo se considera que 10 clusters seria lo ideal ya que su separacion no es ni muy alta ni muy baja, es como un punto ideal.\n",
    "Considerando el grafico de codo podemos observar que los clusters son un poco constantes hasta los 5 cluster y de ahi brincan a 10 donde se considera que es el punto optimo ya que si se siguen aumentando los clusters estos se van empezar a juntar, hay 2 puntos con 10 clusters pero diferentes epsilon que esto es la distancia entre los puntos para ser considerados vecinos, teniendo esto en cuenta un epsilon de 20 no es muy ideal ya que empieza a disminuir la distancia entre cada uno de los clusters haciendo que cada vez esten mas juntos y que no se clasifiquen del todo bien en cambio teniendo un epsilon de 16 tienen mas distancia entre cada uno de los clusters y se pueden diferenciar mejor cada categoria.\n",
    "Para este modelo no se realizo ningun tipo de preprosecemiento ya que al ser imagenes no requiere que se realice nada."
   ]
  }
 ],
 "metadata": {
  "colab": {
   "provenance": []
  },
  "kernelspec": {
   "display_name": "Python 3 (ipykernel)",
   "language": "python",
   "name": "python3"
  },
  "language_info": {
   "codemirror_mode": {
    "name": "ipython",
    "version": 3
   },
   "file_extension": ".py",
   "mimetype": "text/x-python",
   "name": "python",
   "nbconvert_exporter": "python",
   "pygments_lexer": "ipython3",
   "version": "3.12.3"
  }
 },
 "nbformat": 4,
 "nbformat_minor": 4
}
